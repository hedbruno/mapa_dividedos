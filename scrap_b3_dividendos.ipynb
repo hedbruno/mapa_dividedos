{
  "nbformat": 4,
  "nbformat_minor": 0,
  "metadata": {
    "colab": {
      "name": "scrap_b3_dividendos.ipynb",
      "provenance": [],
      "mount_file_id": "1lu0dbJuwVu89tuqHQa33aoRnWzk-szsT",
      "authorship_tag": "ABX9TyPyHgH20+AtQ1V7/jycSkjL",
      "include_colab_link": true
    },
    "kernelspec": {
      "name": "python3",
      "display_name": "Python 3"
    },
    "language_info": {
      "name": "python"
    }
  },
  "cells": [
    {
      "cell_type": "markdown",
      "metadata": {
        "id": "view-in-github",
        "colab_type": "text"
      },
      "source": [
        "<a href=\"https://colab.research.google.com/github/hedbruno/mapa_dividedos/blob/main/scrap_b3_dividendos.ipynb\" target=\"_parent\"><img src=\"https://colab.research.google.com/assets/colab-badge.svg\" alt=\"Open In Colab\"/></a>"
      ]
    },
    {
      "cell_type": "code",
      "metadata": {
        "id": "yNqvv_RwaKCN"
      },
      "source": [
        "import pandas as pd\n",
        "empresa = pd.read_csv('http://dados.cvm.gov.br/dados/CIA_ABERTA/CAD/DADOS/cad_cia_aberta.csv', encoding='windows-1256', sep='\\n', delimiter =';')"
      ],
      "execution_count": 23,
      "outputs": []
    },
    {
      "cell_type": "code",
      "metadata": {
        "id": "erAVJaBdp-m1"
      },
      "source": [
        "filtro = empresa[empresa.SIT == \"ATIVO\"]\n"
      ],
      "execution_count": null,
      "outputs": []
    },
    {
      "cell_type": "code",
      "metadata": {
        "colab": {
          "base_uri": "https://localhost:8080/",
          "height": 359
        },
        "id": "PExnCjd-AjRe",
        "outputId": "e9ba8ef2-8d9b-4f71-828e-4e64371aeb86"
      },
      "source": [
        "colunas = ['CNPJ_CIA', 'DENOM_SOCIAL', 'CD_CVM', 'SIT']\n",
        "filtro.head(10)[colunas]"
      ],
      "execution_count": 54,
      "outputs": [
        {
          "output_type": "execute_result",
          "data": {
            "text/html": [
              "<div>\n",
              "<style scoped>\n",
              "    .dataframe tbody tr th:only-of-type {\n",
              "        vertical-align: middle;\n",
              "    }\n",
              "\n",
              "    .dataframe tbody tr th {\n",
              "        vertical-align: top;\n",
              "    }\n",
              "\n",
              "    .dataframe thead th {\n",
              "        text-align: right;\n",
              "    }\n",
              "</style>\n",
              "<table border=\"1\" class=\"dataframe\">\n",
              "  <thead>\n",
              "    <tr style=\"text-align: right;\">\n",
              "      <th></th>\n",
              "      <th>CNPJ_CIA</th>\n",
              "      <th>DENOM_SOCIAL</th>\n",
              "      <th>CD_CVM</th>\n",
              "      <th>SIT</th>\n",
              "    </tr>\n",
              "  </thead>\n",
              "  <tbody>\n",
              "    <tr>\n",
              "      <th>0</th>\n",
              "      <td>08.773.135/0001-00</td>\n",
              "      <td>2W ENERGIA S.A.</td>\n",
              "      <td>25224</td>\n",
              "      <td>ATIVO</td>\n",
              "    </tr>\n",
              "    <tr>\n",
              "      <th>2</th>\n",
              "      <td>12.091.809/0001-55</td>\n",
              "      <td>3R PETROLEUM OLةO E GءS S.A.</td>\n",
              "      <td>25291</td>\n",
              "      <td>ATIVO</td>\n",
              "    </tr>\n",
              "    <tr>\n",
              "      <th>3</th>\n",
              "      <td>01.547.749/0001-16</td>\n",
              "      <td>521 PARTICIPAاOES S.A. - EM LIQUIDAاأO EXTRAJU...</td>\n",
              "      <td>16330</td>\n",
              "      <td>ATIVO</td>\n",
              "    </tr>\n",
              "    <tr>\n",
              "      <th>4</th>\n",
              "      <td>01.851.771/0001-55</td>\n",
              "      <td>524 PARTICIPAاOES SA</td>\n",
              "      <td>16284</td>\n",
              "      <td>ATIVO</td>\n",
              "    </tr>\n",
              "    <tr>\n",
              "      <th>27</th>\n",
              "      <td>10.345.009/0001-98</td>\n",
              "      <td>ADVANCED DIGITAL HEALTH MEDICINA PREVENTIVA S.A.</td>\n",
              "      <td>21725</td>\n",
              "      <td>ATIVO</td>\n",
              "    </tr>\n",
              "    <tr>\n",
              "      <th>28</th>\n",
              "      <td>08.827.501/0001-58</td>\n",
              "      <td>AEGEA SANEAMENTO E PARTICIPAاصES S.A.</td>\n",
              "      <td>23396</td>\n",
              "      <td>ATIVO</td>\n",
              "    </tr>\n",
              "    <tr>\n",
              "      <th>29</th>\n",
              "      <td>12.528.708/0001-07</td>\n",
              "      <td>AERIS IND. E COM. DE EQUIP. PARA GER. DE ENG. ...</td>\n",
              "      <td>25283</td>\n",
              "      <td>ATIVO</td>\n",
              "    </tr>\n",
              "    <tr>\n",
              "      <th>31</th>\n",
              "      <td>37.663.076/0001-07</td>\n",
              "      <td>AES Brasil Energia S/A</td>\n",
              "      <td>25640</td>\n",
              "      <td>ATIVO</td>\n",
              "    </tr>\n",
              "    <tr>\n",
              "      <th>33</th>\n",
              "      <td>04.128.563/0001-10</td>\n",
              "      <td>AES TIETت ENERGIA S.A</td>\n",
              "      <td>18970</td>\n",
              "      <td>ATIVO</td>\n",
              "    </tr>\n",
              "    <tr>\n",
              "      <th>37</th>\n",
              "      <td>10.338.320/0001-00</td>\n",
              "      <td>AFLUENTE TRANSMISSأO DE ENERGIA ELETRICA S/A</td>\n",
              "      <td>22179</td>\n",
              "      <td>ATIVO</td>\n",
              "    </tr>\n",
              "  </tbody>\n",
              "</table>\n",
              "</div>"
            ],
            "text/plain": [
              "              CNPJ_CIA  ...    SIT\n",
              "0   08.773.135/0001-00  ...  ATIVO\n",
              "2   12.091.809/0001-55  ...  ATIVO\n",
              "3   01.547.749/0001-16  ...  ATIVO\n",
              "4   01.851.771/0001-55  ...  ATIVO\n",
              "27  10.345.009/0001-98  ...  ATIVO\n",
              "28  08.827.501/0001-58  ...  ATIVO\n",
              "29  12.528.708/0001-07  ...  ATIVO\n",
              "31  37.663.076/0001-07  ...  ATIVO\n",
              "33  04.128.563/0001-10  ...  ATIVO\n",
              "37  10.338.320/0001-00  ...  ATIVO\n",
              "\n",
              "[10 rows x 4 columns]"
            ]
          },
          "metadata": {
            "tags": []
          },
          "execution_count": 54
        }
      ]
    },
    {
      "cell_type": "code",
      "metadata": {
        "id": "XiV6XQH1BdUO"
      },
      "source": [
        ""
      ],
      "execution_count": null,
      "outputs": []
    }
  ]
}